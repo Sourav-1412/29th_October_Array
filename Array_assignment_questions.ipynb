{
 "cells": [
  {
   "cell_type": "markdown",
   "id": "98aa21d4-e657-4ff3-82f0-b805cfc1b9d7",
   "metadata": {},
   "source": [
    "## Array Assignment Questions"
   ]
  },
  {
   "cell_type": "markdown",
   "id": "b83250b1-cd52-46d6-888e-353789797104",
   "metadata": {},
   "source": [
    "#### Q1"
   ]
  },
  {
   "cell_type": "code",
   "execution_count": 1,
   "id": "aa034b15-62a1-4193-b986-6f3a8f879cf5",
   "metadata": {},
   "outputs": [
    {
     "data": {
      "text/plain": [
       "True"
      ]
     },
     "execution_count": 1,
     "metadata": {},
     "output_type": "execute_result"
    }
   ],
   "source": [
    "#Time Complexity: O(n^2)\n",
    "#Space Complexity: O(1)\n",
    "\n",
    "def check_duplicate(arr):\n",
    "    i = 0\n",
    "    while (i < len(arr)):\n",
    "        j=i\n",
    "        while (j < len(arr)):\n",
    "            if arr[i] == arr[j]:\n",
    "                return True\n",
    "            j = j+1\n",
    "        i = i+1\n",
    "    return False\n",
    "\n",
    "arr = [1,2,4,2,5,9]\n",
    "check_duplicate(arr)"
   ]
  },
  {
   "cell_type": "markdown",
   "id": "b43b0b43-e387-4540-a676-f839d892290d",
   "metadata": {},
   "source": [
    "#### Q2"
   ]
  },
  {
   "cell_type": "code",
   "execution_count": 2,
   "id": "baed2363-8c76-440f-9a74-490eb31ed5ff",
   "metadata": {},
   "outputs": [
    {
     "data": {
      "text/plain": [
       "[5, 6, 7, 1, 2, 3, 4]"
      ]
     },
     "execution_count": 2,
     "metadata": {},
     "output_type": "execute_result"
    }
   ],
   "source": [
    "# Time Complexity: O(1)\n",
    "# Space Complexity: O(1)\n",
    "\n",
    "def rotate_array(arr, k):\n",
    "    if(k < len(arr)):\n",
    "        return arr[-k:] + arr[:-k] \n",
    "    \n",
    "arr = [1,2,3,4,5,6,7]\n",
    "k=3\n",
    "rotate_array(arr,k)  "
   ]
  },
  {
   "cell_type": "markdown",
   "id": "3a550a00-2910-4969-b44b-381875dfab3d",
   "metadata": {},
   "source": [
    "#### Q3"
   ]
  },
  {
   "cell_type": "code",
   "execution_count": 3,
   "id": "9a4d628f-22fc-4082-9bcf-ccf67357ed60",
   "metadata": {},
   "outputs": [
    {
     "data": {
      "text/plain": [
       "[12, 9, 7, 5, 4, 2]"
      ]
     },
     "execution_count": 3,
     "metadata": {},
     "output_type": "execute_result"
    }
   ],
   "source": [
    "# Time Complexity: O(n)\n",
    "# Space Complexity: O(1)\n",
    "\n",
    "def reverse_array(arr):\n",
    "    i = 0\n",
    "    j = len(arr)-1\n",
    "    while(i < j):\n",
    "        arr[i], arr[j] = arr[j], arr[i] #swap the elements\n",
    "        i += 1\n",
    "        j -= 1\n",
    "    return arr\n",
    "\n",
    "arr = [2,4,5,7,9,12]\n",
    "reverse_array(arr)"
   ]
  },
  {
   "cell_type": "markdown",
   "id": "4758fd65-e8a0-4a4a-b0a0-c99fd3bd8f93",
   "metadata": {},
   "source": [
    "#### Q4"
   ]
  },
  {
   "cell_type": "code",
   "execution_count": 4,
   "id": "c120c678-6205-4724-936e-89d0eb385cb8",
   "metadata": {},
   "outputs": [
    {
     "data": {
      "text/plain": [
       "20"
      ]
     },
     "execution_count": 4,
     "metadata": {},
     "output_type": "execute_result"
    }
   ],
   "source": [
    "#Time Complexity: O(n)\n",
    "#Space Complexity: O(1)\n",
    "\n",
    "def max_element(arr):\n",
    "    i = 0\n",
    "    max = 0\n",
    "    while (i < len(arr)):\n",
    "        if (max < arr[i]):\n",
    "            max = arr[i]\n",
    "        i += 1\n",
    "    return max\n",
    "\n",
    "arr = [10, 5, 20, 8, 15]\n",
    "max_element(arr)"
   ]
  },
  {
   "cell_type": "markdown",
   "id": "ab8a7166-f6fd-4359-9b53-16f04cb3ee21",
   "metadata": {},
   "source": [
    "#### Q5"
   ]
  },
  {
   "cell_type": "code",
   "execution_count": 5,
   "id": "0cedc5e7-016c-4005-a7a9-0e8036f70481",
   "metadata": {},
   "outputs": [
    {
     "data": {
      "text/plain": [
       "[1, 2, 3, 4, 5]"
      ]
     },
     "execution_count": 5,
     "metadata": {},
     "output_type": "execute_result"
    }
   ],
   "source": [
    "#Time Complexity: O(n^2)\n",
    "#Space Complexity: O(1)\n",
    "\n",
    "def remove_dup(arr):\n",
    "    i = 0\n",
    "    while(i < len(arr)):\n",
    "        j = i+1\n",
    "        while(j < len(arr)):\n",
    "            if arr[i] == arr[j]:\n",
    "                arr.pop(j)\n",
    "            else:\n",
    "                j += 1\n",
    "        i += 1\n",
    "    return arr\n",
    "\n",
    "arr = [1,1,2,2,2,3,3,4,4,4,5,5]\n",
    "remove_dup(arr)"
   ]
  }
 ],
 "metadata": {
  "kernelspec": {
   "display_name": "Python 3 (ipykernel)",
   "language": "python",
   "name": "python3"
  },
  "language_info": {
   "codemirror_mode": {
    "name": "ipython",
    "version": 3
   },
   "file_extension": ".py",
   "mimetype": "text/x-python",
   "name": "python",
   "nbconvert_exporter": "python",
   "pygments_lexer": "ipython3",
   "version": "3.10.8"
  }
 },
 "nbformat": 4,
 "nbformat_minor": 5
}
